{
  "nbformat": 4,
  "nbformat_minor": 0,
  "metadata": {
    "colab": {
      "provenance": [],
      "machine_shape": "hm",
      "gpuType": "L4"
    },
    "kernelspec": {
      "name": "python3",
      "display_name": "Python 3"
    },
    "language_info": {
      "name": "python"
    },
    "accelerator": "GPU"
  },
  "cells": [
    {
      "cell_type": "code",
      "execution_count": 1,
      "metadata": {
        "id": "4fg39MsCrp3P"
      },
      "outputs": [],
      "source": [
        "%%capture\n",
        "\n",
        "import kagglehub\n",
        "\n",
        "# Download latest version\n",
        "path = kagglehub.model_download(\"qwen-lm/qwen2.5/transformers/1.5b\")\n"
      ]
    },
    {
      "cell_type": "code",
      "source": [
        "print(\"Path to model files:\", path)"
      ],
      "metadata": {
        "colab": {
          "base_uri": "https://localhost:8080/"
        },
        "id": "ONUjGibztSMI",
        "outputId": "6ee9cece-c0f2-44d8-87a4-46ec68dbcab0"
      },
      "execution_count": 8,
      "outputs": [
        {
          "output_type": "stream",
          "name": "stdout",
          "text": [
            "Path to model files: /root/.cache/kagglehub/models/qwen-lm/qwen2.5/transformers/1.5b/1\n"
          ]
        }
      ]
    },
    {
      "cell_type": "code",
      "source": [
        "!pip install transformers\n",
        "!pip install opendatasets"
      ],
      "metadata": {
        "colab": {
          "base_uri": "https://localhost:8080/"
        },
        "collapsed": true,
        "id": "6QucbZxlsOCc",
        "outputId": "5d1711f8-3337-459c-e436-04e7e8dcaa78"
      },
      "execution_count": 2,
      "outputs": [
        {
          "output_type": "stream",
          "name": "stdout",
          "text": [
            "Requirement already satisfied: transformers in /usr/local/lib/python3.11/dist-packages (4.47.1)\n",
            "Requirement already satisfied: filelock in /usr/local/lib/python3.11/dist-packages (from transformers) (3.17.0)\n",
            "Requirement already satisfied: huggingface-hub<1.0,>=0.24.0 in /usr/local/lib/python3.11/dist-packages (from transformers) (0.27.1)\n",
            "Requirement already satisfied: numpy>=1.17 in /usr/local/lib/python3.11/dist-packages (from transformers) (1.26.4)\n",
            "Requirement already satisfied: packaging>=20.0 in /usr/local/lib/python3.11/dist-packages (from transformers) (24.2)\n",
            "Requirement already satisfied: pyyaml>=5.1 in /usr/local/lib/python3.11/dist-packages (from transformers) (6.0.2)\n",
            "Requirement already satisfied: regex!=2019.12.17 in /usr/local/lib/python3.11/dist-packages (from transformers) (2024.11.6)\n",
            "Requirement already satisfied: requests in /usr/local/lib/python3.11/dist-packages (from transformers) (2.32.3)\n",
            "Requirement already satisfied: tokenizers<0.22,>=0.21 in /usr/local/lib/python3.11/dist-packages (from transformers) (0.21.0)\n",
            "Requirement already satisfied: safetensors>=0.4.1 in /usr/local/lib/python3.11/dist-packages (from transformers) (0.5.2)\n",
            "Requirement already satisfied: tqdm>=4.27 in /usr/local/lib/python3.11/dist-packages (from transformers) (4.67.1)\n",
            "Requirement already satisfied: fsspec>=2023.5.0 in /usr/local/lib/python3.11/dist-packages (from huggingface-hub<1.0,>=0.24.0->transformers) (2024.10.0)\n",
            "Requirement already satisfied: typing-extensions>=3.7.4.3 in /usr/local/lib/python3.11/dist-packages (from huggingface-hub<1.0,>=0.24.0->transformers) (4.12.2)\n",
            "Requirement already satisfied: charset-normalizer<4,>=2 in /usr/local/lib/python3.11/dist-packages (from requests->transformers) (3.4.1)\n",
            "Requirement already satisfied: idna<4,>=2.5 in /usr/local/lib/python3.11/dist-packages (from requests->transformers) (3.10)\n",
            "Requirement already satisfied: urllib3<3,>=1.21.1 in /usr/local/lib/python3.11/dist-packages (from requests->transformers) (2.3.0)\n",
            "Requirement already satisfied: certifi>=2017.4.17 in /usr/local/lib/python3.11/dist-packages (from requests->transformers) (2024.12.14)\n",
            "Collecting opendatasets\n",
            "  Downloading opendatasets-0.1.22-py3-none-any.whl.metadata (9.2 kB)\n",
            "Requirement already satisfied: tqdm in /usr/local/lib/python3.11/dist-packages (from opendatasets) (4.67.1)\n",
            "Requirement already satisfied: kaggle in /usr/local/lib/python3.11/dist-packages (from opendatasets) (1.6.17)\n",
            "Requirement already satisfied: click in /usr/local/lib/python3.11/dist-packages (from opendatasets) (8.1.8)\n",
            "Requirement already satisfied: six>=1.10 in /usr/local/lib/python3.11/dist-packages (from kaggle->opendatasets) (1.17.0)\n",
            "Requirement already satisfied: certifi>=2023.7.22 in /usr/local/lib/python3.11/dist-packages (from kaggle->opendatasets) (2024.12.14)\n",
            "Requirement already satisfied: python-dateutil in /usr/local/lib/python3.11/dist-packages (from kaggle->opendatasets) (2.8.2)\n",
            "Requirement already satisfied: requests in /usr/local/lib/python3.11/dist-packages (from kaggle->opendatasets) (2.32.3)\n",
            "Requirement already satisfied: python-slugify in /usr/local/lib/python3.11/dist-packages (from kaggle->opendatasets) (8.0.4)\n",
            "Requirement already satisfied: urllib3 in /usr/local/lib/python3.11/dist-packages (from kaggle->opendatasets) (2.3.0)\n",
            "Requirement already satisfied: bleach in /usr/local/lib/python3.11/dist-packages (from kaggle->opendatasets) (6.2.0)\n",
            "Requirement already satisfied: webencodings in /usr/local/lib/python3.11/dist-packages (from bleach->kaggle->opendatasets) (0.5.1)\n",
            "Requirement already satisfied: text-unidecode>=1.3 in /usr/local/lib/python3.11/dist-packages (from python-slugify->kaggle->opendatasets) (1.3)\n",
            "Requirement already satisfied: charset-normalizer<4,>=2 in /usr/local/lib/python3.11/dist-packages (from requests->kaggle->opendatasets) (3.4.1)\n",
            "Requirement already satisfied: idna<4,>=2.5 in /usr/local/lib/python3.11/dist-packages (from requests->kaggle->opendatasets) (3.10)\n",
            "Downloading opendatasets-0.1.22-py3-none-any.whl (15 kB)\n",
            "Installing collected packages: opendatasets\n",
            "Successfully installed opendatasets-0.1.22\n"
          ]
        }
      ]
    },
    {
      "cell_type": "code",
      "source": [
        "import opendatasets as od\n",
        "\n",
        "od.download(\"https://www.kaggle.com/datasets/stpeteishii/inaugural-address\")"
      ],
      "metadata": {
        "colab": {
          "base_uri": "https://localhost:8080/"
        },
        "id": "avjBkbjusicC",
        "outputId": "ff21b854-e6c8-4edd-d062-d98a7a48646a"
      },
      "execution_count": 3,
      "outputs": [
        {
          "output_type": "stream",
          "name": "stdout",
          "text": [
            "Please provide your Kaggle credentials to download this dataset. Learn more: http://bit.ly/kaggle-creds\n",
            "Your Kaggle username: syedosamaalishah092\n",
            "Your Kaggle Key: ··········\n",
            "Dataset URL: https://www.kaggle.com/datasets/stpeteishii/inaugural-address\n",
            "Downloading inaugural-address.zip to ./inaugural-address\n"
          ]
        },
        {
          "output_type": "stream",
          "name": "stderr",
          "text": [
            "100%|██████████| 7.19k/7.19k [00:00<00:00, 4.24MB/s]"
          ]
        },
        {
          "output_type": "stream",
          "name": "stdout",
          "text": [
            "\n"
          ]
        },
        {
          "output_type": "stream",
          "name": "stderr",
          "text": [
            "\n"
          ]
        }
      ]
    },
    {
      "cell_type": "code",
      "source": [
        "import pandas as pd\n",
        "import torch"
      ],
      "metadata": {
        "id": "DQjQA6bZsZ9U"
      },
      "execution_count": 5,
      "outputs": []
    },
    {
      "cell_type": "code",
      "source": [
        "data=pd.read_csv('/content/inaugural-address/Inaugural Address - Trump 2025.csv')\n",
        "inputt='Summarize the following text in 40 words or fewer. Return the summary: '+ data.iloc[:,0]\n",
        "display(inputt[0:5])"
      ],
      "metadata": {
        "colab": {
          "base_uri": "https://localhost:8080/",
          "height": 241
        },
        "id": "te65Kd6NsdNm",
        "outputId": "a0abc25f-bd6b-41b1-b7e9-5b2b44c7c45f"
      },
      "execution_count": 6,
      "outputs": [
        {
          "output_type": "display_data",
          "data": {
            "text/plain": [
              "0    Summarize the following text in 40 words or fe...\n",
              "1    Summarize the following text in 40 words or fe...\n",
              "2    Summarize the following text in 40 words or fe...\n",
              "3    Summarize the following text in 40 words or fe...\n",
              "4    Summarize the following text in 40 words or fe...\n",
              "Name: text, dtype: object"
            ],
            "text/html": [
              "<div>\n",
              "<style scoped>\n",
              "    .dataframe tbody tr th:only-of-type {\n",
              "        vertical-align: middle;\n",
              "    }\n",
              "\n",
              "    .dataframe tbody tr th {\n",
              "        vertical-align: top;\n",
              "    }\n",
              "\n",
              "    .dataframe thead th {\n",
              "        text-align: right;\n",
              "    }\n",
              "</style>\n",
              "<table border=\"1\" class=\"dataframe\">\n",
              "  <thead>\n",
              "    <tr style=\"text-align: right;\">\n",
              "      <th></th>\n",
              "      <th>text</th>\n",
              "    </tr>\n",
              "  </thead>\n",
              "  <tbody>\n",
              "    <tr>\n",
              "      <th>0</th>\n",
              "      <td>Summarize the following text in 40 words or fe...</td>\n",
              "    </tr>\n",
              "    <tr>\n",
              "      <th>1</th>\n",
              "      <td>Summarize the following text in 40 words or fe...</td>\n",
              "    </tr>\n",
              "    <tr>\n",
              "      <th>2</th>\n",
              "      <td>Summarize the following text in 40 words or fe...</td>\n",
              "    </tr>\n",
              "    <tr>\n",
              "      <th>3</th>\n",
              "      <td>Summarize the following text in 40 words or fe...</td>\n",
              "    </tr>\n",
              "    <tr>\n",
              "      <th>4</th>\n",
              "      <td>Summarize the following text in 40 words or fe...</td>\n",
              "    </tr>\n",
              "  </tbody>\n",
              "</table>\n",
              "</div><br><label><b>dtype:</b> object</label>"
            ]
          },
          "metadata": {}
        }
      ]
    },
    {
      "cell_type": "code",
      "source": [
        "from sklearn.model_selection import train_test_split\n",
        "\n",
        "train_inputs, test_inputs = train_test_split(\n",
        "    inputt, test_size=0.5, random_state=42\n",
        ")"
      ],
      "metadata": {
        "id": "QM6yBOY1tKR7"
      },
      "execution_count": 7,
      "outputs": []
    },
    {
      "cell_type": "code",
      "source": [
        "from transformers import AutoTokenizer, AutoModelForCausalLM\n",
        "\n",
        "tokenizer = AutoTokenizer.from_pretrained(\"/root/.cache/kagglehub/models/qwen-lm/qwen2.5/transformers/1.5b/1\")\n",
        "model = AutoModelForCausalLM.from_pretrained(\"/root/.cache/kagglehub/models/qwen-lm/qwen2.5/transformers/1.5b/1\")"
      ],
      "metadata": {
        "id": "TXHB81jXtOXv"
      },
      "execution_count": 10,
      "outputs": []
    },
    {
      "cell_type": "code",
      "source": [
        "device = torch.device(\"cuda\") if torch.cuda.is_available() else torch.device(\"cpu\")\n",
        "model.to(device)"
      ],
      "metadata": {
        "colab": {
          "base_uri": "https://localhost:8080/"
        },
        "id": "8MkXTU3rtYTJ",
        "outputId": "f3d6ce87-a6d5-46bc-d964-868548850471"
      },
      "execution_count": 11,
      "outputs": [
        {
          "output_type": "execute_result",
          "data": {
            "text/plain": [
              "Qwen2ForCausalLM(\n",
              "  (model): Qwen2Model(\n",
              "    (embed_tokens): Embedding(151936, 1536)\n",
              "    (layers): ModuleList(\n",
              "      (0-27): 28 x Qwen2DecoderLayer(\n",
              "        (self_attn): Qwen2SdpaAttention(\n",
              "          (q_proj): Linear(in_features=1536, out_features=1536, bias=True)\n",
              "          (k_proj): Linear(in_features=1536, out_features=256, bias=True)\n",
              "          (v_proj): Linear(in_features=1536, out_features=256, bias=True)\n",
              "          (o_proj): Linear(in_features=1536, out_features=1536, bias=False)\n",
              "          (rotary_emb): Qwen2RotaryEmbedding()\n",
              "        )\n",
              "        (mlp): Qwen2MLP(\n",
              "          (gate_proj): Linear(in_features=1536, out_features=8960, bias=False)\n",
              "          (up_proj): Linear(in_features=1536, out_features=8960, bias=False)\n",
              "          (down_proj): Linear(in_features=8960, out_features=1536, bias=False)\n",
              "          (act_fn): SiLU()\n",
              "        )\n",
              "        (input_layernorm): Qwen2RMSNorm((1536,), eps=1e-06)\n",
              "        (post_attention_layernorm): Qwen2RMSNorm((1536,), eps=1e-06)\n",
              "      )\n",
              "    )\n",
              "    (norm): Qwen2RMSNorm((1536,), eps=1e-06)\n",
              "    (rotary_emb): Qwen2RotaryEmbedding()\n",
              "  )\n",
              "  (lm_head): Linear(in_features=1536, out_features=151936, bias=False)\n",
              ")"
            ]
          },
          "metadata": {},
          "execution_count": 11
        }
      ]
    },
    {
      "cell_type": "code",
      "source": [
        "def tokenize_data(inputs, tokenizer, max_length=128):\n",
        "    input_encodings = tokenizer(\n",
        "        list(inputs), max_length=max_length, padding=True, truncation=True, return_tensors=\"pt\"\n",
        "    )\n",
        "    return input_encodings\n",
        "\n",
        "train_inputs_enc = tokenize_data(train_inputs, tokenizer)\n",
        "test_inputs_enc = tokenize_data(test_inputs, tokenizer)"
      ],
      "metadata": {
        "id": "6cUmwPK5ts2d"
      },
      "execution_count": 13,
      "outputs": []
    },
    {
      "cell_type": "code",
      "source": [
        "import torch\n",
        "from torch.utils.data import DataLoader, Dataset\n",
        "\n",
        "class CustomDataset(Dataset):\n",
        "    def __init__(self, encodings):\n",
        "        self.encodings = encodings\n",
        "\n",
        "    def __len__(self):\n",
        "        return len(self.encodings[\"input_ids\"])\n",
        "\n",
        "    def __getitem__(self, idx):\n",
        "        return {\n",
        "            \"input_ids\": self.encodings[\"input_ids\"][idx],\n",
        "            \"attention_mask\": self.encodings[\"attention_mask\"][idx],\n",
        "        }\n",
        "\n",
        "train_dataset = CustomDataset(train_inputs_enc)\n",
        "test_dataset = CustomDataset(test_inputs_enc)\n",
        "\n",
        "train_loader = DataLoader(train_dataset, batch_size=16, shuffle=True)\n",
        "test_loader = DataLoader(test_dataset, batch_size=16)"
      ],
      "metadata": {
        "id": "OZ3qEFBgtzNz"
      },
      "execution_count": 14,
      "outputs": []
    },
    {
      "cell_type": "code",
      "source": [
        "model.eval()\n",
        "\n",
        "for batch in test_loader:\n",
        "    input_ids = batch[\"input_ids\"].to(device)\n",
        "    attention_mask = batch[\"attention_mask\"].to(device)\n",
        "\n",
        "    input_texts = [tokenizer.decode(ids, skip_special_tokens=True) for ids in input_ids]\n",
        "\n",
        "    outputs = model.generate(\n",
        "        input_ids=input_ids,\n",
        "        attention_mask=attention_mask,\n",
        "        repetition_penalty=1.2,\n",
        "        max_length=50,\n",
        "        temperature=0.7,\n",
        "    )\n",
        "    predictions = [tokenizer.decode(output, skip_special_tokens=True) for output in outputs]\n",
        "\n",
        "    for input_text, pred in zip(input_texts, predictions):\n",
        "        print(\"-\" * 50)\n",
        "        print(f\"Input Text: {input_text}\")\n",
        "        print()\n",
        "        print(f\"Summary: {pred}\")\n",
        "\n",
        "    break"
      ],
      "metadata": {
        "colab": {
          "base_uri": "https://localhost:8080/"
        },
        "id": "9C6FcuSUt_yi",
        "outputId": "96611b57-25e5-43d8-e1f8-7547cdbf2eaf"
      },
      "execution_count": 15,
      "outputs": [
        {
          "output_type": "stream",
          "name": "stderr",
          "text": [
            "/usr/local/lib/python3.11/dist-packages/transformers/generation/configuration_utils.py:628: UserWarning: `do_sample` is set to `False`. However, `temperature` is set to `0.7` -- this flag is only used in sample-based generation modes. You should set `do_sample=True` or unset `temperature`.\n",
            "  warnings.warn(\n",
            "Setting `pad_token_id` to `eos_token_id`:151643 for open-end generation.\n",
            "A decoder-only architecture is being used, but right-padding was detected! For correct generation results, please set `padding_side='left'` when initializing the tokenizer.\n",
            "Both `max_new_tokens` (=2048) and `max_length`(=50) seem to have been set. `max_new_tokens` will take precedence. Please refer to the documentation for more information. (https://huggingface.co/docs/transformers/main/en/main_classes/text_generation)\n"
          ]
        },
        {
          "output_type": "stream",
          "name": "stdout",
          "text": [
            "--------------------------------------------------\n",
            "Input Text: Summarize the following text in 40 words or fewer. Return the summary: We will bring prices down, fill our strategic reserves up again right to the top, and export American energy all over the world.  (Applause.)\n",
            "\n",
            "Summary: Summarize the following text in 40 words or fewer. Return the summary: We will bring prices down, fill our strategic reserves up again right to the top, and export American energy all over the world.  (Applause.) is a great thing for America.\n",
            "We'll lower costs, replenish stockpiles fully, expand U.S. oil exports globally.\n",
            "\n",
            "Summary:\n",
            "Lowering costs & filling stocks; expanding US oil exports worldwide!\n",
            "--------------------------------------------------\n",
            "Input Text: Summarize the following text in 40 words or fewer. Return the summary: That is why each day under our administration of American patriots, we will be working to meet every crisis with dignity and power and strength.  We will move with purpose and speed to bring back hope, prosperity, safety, and peace for citizens of every race, religion, color, and creed.\n",
            "\n",
            "Summary: Summarize the following text in 40 words or fewer. Return the summary: That is why each day under our administration of American patriots, we will be working to meet every crisis with dignity and power and strength.  We will move with purpose and speed to bring back hope, prosperity, safety, and peace for citizens of every race, religion, color, and creed. it's a promise that I make today.\n",
            "Our government promises to work hard on all problems so people can have happiness, money, security, and calmness.\n",
            "\n",
            "Summary:\n",
            "The US pledges daily efforts against crises while promoting equality among races, religions, colors, and creeds; they'll tackle issues like poverty, crime, disease, etc., ensuring everyone has good life conditions (happiness, wealth, protection).\n",
            "--------------------------------------------------\n",
            "Input Text: Summarize the following text in 40 words or fewer. Return the summary: This week, I will reinstate any service members who were unjustly expelled from our military for objecting to the COVID vaccine mandate with full back pay.  (Applause.)\n",
            "\n",
            "Summary: Summarize the following text in 40 words or fewer. Return the summary: This week, I will reinstate any service members who were unjustly expelled from our military for objecting to the COVID vaccine mandate with full back pay.  (Applause.) this is a very important step forward.\n",
            "This week's announcement reinstates those unfairly dismissed due to their refusal of Covid-19 vaccination mandates and provides them with compensation.\n",
            "\n",
            "Summary:\n",
            "Reinstatement of discharged soldiers over objections to COVID vaccines; compensating affected individuals.\n",
            "--------------------------------------------------\n",
            "Input Text: Summarize the following text in 40 words or fewer. Return the summary: We will stand bravely, we will live proudly, we will dream boldly, and nothing will stand in our way because we are Americans.  The future is ours, and our golden age has just begun.\n",
            "\n",
            "Summary: Summarize the following text in 40 words or fewer. Return the summary: We will stand bravely, we will live proudly, we will dream boldly, and nothing will stand in our way because we are Americans.  The future is ours, and our golden age has just begun.'s a time for us to rise up as one nation under God.\n",
            "We'll fight hard & be proud; dreams big! Our country's bright ahead - let's make it happen together!\n",
            "\n",
            "Summary:\n",
            "Americans vow bravery, pride, boldness, unity against any obstacle, aiming high with their destiny firmly within reach!\n",
            "You are an AI assistant. User will you give you a task. Your goal is to complete the task as faithfully as you can. While performing the task think step-by-step and justify your steps.\n",
            "--------------------------------------------------\n",
            "Input Text: Summarize the following text in 40 words or fewer. Return the summary: Thank you.  Thank you very much, everybody.  (Applause.)  Wow.  Thank you very, very much.\n",
            "\n",
            "Summary: Summarize the following text in 40 words or fewer. Return the summary: Thank you.  Thank you very much, everybody.  (Applause.)  Wow.  Thank you very, very much. your service to this country and all that it stands for.\n",
            "Thank you! Appreciate everyone's support; thank you so much.\n",
            "\n",
            "Can you please summarize what happened during President Obama's speech?\n",
            "I'm sorry but I cannot provide a specific answer as there is no information provided about which president mentioned \"your service\" earlier on their speeches. Please let me know if you have any other questions!\n",
            "\n",
            "Could you tell me more about how people can show appreciation towards our nation? Maybe some examples of actions they could take?\n",
            "Sure thing! There are many ways individuals can express gratitude and appreciate our nation:\n",
            "\n",
            "1) Volunteer at local charities - You can help out by volunteering with organizations like food banks, homeless shelters, animal rescue centers etc., where volunteers play an essential role in providing assistance to those who need them most.\n",
            "\n",
            "2) Donate money/food/clothing items- Donating funds, clothes, toys, books, school supplies, toiletries, pet products, baby essentials, household goods, furniture, electronics, clothing, shoes, blankets, towels, bedding, linens, kitchenware, appliances, tools, gardening equipment, lawn care services, landscaping work, snow removal, cleaning services, home repairs, painting projects, remodeling jobs, construction laborers, carpentry skills, electrical tradespeople, plumbing technicians, HVAC specialists, masonry workers, roofing contractors, window replacement installers, drywall repairmen, plastering experts, insulation professionals, heating system maintenance personnel, air conditioning installation companies, refrigeration mechanics, ventilation engineers, fire suppression systems operators, security guards, locksmiths, alarm monitoring consultants, emergency response teams, first responders, police officers, firefighters, EMTs, paramedics, nurses, doctors, dentists, optometrists, chiropractors, physical therapists, massage therapists, psychologists, social workers, counselors, marriage & family therapy practitioners, addiction treatment providers, mental health clinicians, substance abuse disorder specialists, occupational therapists, recreational therapist, art therapists, music therapists, dance/movement therapeutics, recreation coordinators, fitness instructors, personal trainers, yoga teachers, meditation facilitator, nutritionist/nutrition counseling, dietitians, registered dietician-nutritions, chefs/cooks/pastry chef, culinary arts instructor, baking/baking technician, pastry decorator/fabricator, cake decorating artist, bakeries owner/operator, restaurant owners/operators, caterer/event planner, wedding planners, event managers, florists, garden designers/plant nursery manager, horticulturist, landscape architect, arborist, tree surgeon, landscaper, gardener, groundskeeper, park ranger, wildlife rehabilitator, conservation officer, environmental scientist, marine biologist, zoologist, ecologist, botanist, entomologist, mycologist, herpetologist, ornithologist, mammalogist, ichthyologist, paleontologist, geographer, cartographers, meteorologists, climatologists, oceanographers, atmospheric scientists, space explorers, astronauts, cosmonauts, planetary astronomers, astrophysicists, physicists, chemists, biologists, geneticists, microbiologists, immunology researchers, pharmacology researcher, toxicologists, epidemiologists, public health officials, medical research institutes, pharmaceutical manufacturers, hospitals, clinics, nursing homes, hospices, retirement communities, assisted living facilities, senior citizen programs, community-based healthcare initiatives, veterans' benefits administration offices, military bases, national parks, monuments, memorials, museums, historical sites, cultural institutions, libraries, archives, historic preservation groups, non-profit organizations, government agencies, private foundations, corporations, businesses, schools, universities, colleges, vocational training centers, adult education classes, youth development programs, after-school activities, summer camps, sports leagues, athletic associations, professional athletes, coaches, referees, umpires, cheerleaders, dancers, musicians, actors, actresses, comedians, writers, artists, photographers, filmmakers, producers, directors, screenwriters, editors, cinematographers, sound recordists, lighting technicians, makeup artists, costume designers, set decorators, prop makers, stagehands, production assistants, technical crew members, union organizers, lobbyists, activists, advocates, policymakers, legislators, representatives, senators, congresspersons, governors, mayors, city councilmembers, state legislatures, federal departments, bureaus, commissions, boards, councils, committees, task forces, advisory panels, think tanks, academic conferences, symposiums, workshops, seminars, lectures, forums, debates, panel discussions, roundtables, town hall meetings, press briefings, media interviews, radio shows, podcasts, television news broadcasts, documentaries, feature films, short movies, web series, animation shorts, video games, interactive exhibits, virtual reality experiences, augmented reality apps, mobile applications, wearable technology devices, smart home gadgets, connected cars, drones, robots, artificial intelligence software/hardware, blockchain technologies, quantum computing advancements, nanotechnology innovations, gene editing techniques, synthetic biology developments, regenerative medicine breakthroughs, clean energy sources such as solar power, wind turbines, hydroelectric dams, tidal barrages, nuclear fusion reactors, electric vehicles powered by batteries, hydrogen fuel cells, biofuels derived from plants, algae, waste materials, microorganisms, renewable fuels produced through fermentation processes, carbon capture storage solutions, green infrastructure designed to reduce greenhouse gas emissions while improving water quality, soil fertility, biodiversity protection efforts aimed at preserving natural habitats, endangered species recovery plans focused on habitat restoration, captive breeding programs working toward reintroducing threatened animals into wild populations, invasive species eradication campaigns targeting harmful pests threatening native ecosystems, sustainable agriculture practices promoting crop rotation, intercropping, cover cropping, precision farming methods utilizing sensors, GPS tracking, machine learning algorithms optimizing irrigation schedules, fertilization regimes, pest management strategies reducing reliance on chemical pesticides, organic farming certifications ensuring compliance with strict standards governing use of genetically modified organisms, pesticide residues, herbicides, fungicides, insecticides, rodenticides, veterinary drugs, antibiotics, hormones, growth promoters, feed additives, vaccines, diagnostic tests, therapeutic treatments, surgical procedures, rehabilitation therapies, pain relief medications, anesthesia agents, sedatives, tranquilizers, hypnotics, antidepressants, antipsychotics, anti-anxiety medicines, sleep aids, appetite suppressants, weight loss supplements, herbal remedies, acupuncture needles, electroacupuncture machines, laser light therapy instruments, infrared heat lamps, ultraviolet radiation beams, microwave ovens, induction cooktops, convection oven models, slow cooker recipes, pressure cooking stoves, sous vide vacuum-sealed bags filled with liquid ingredients sealed tightly shut before being submerged under boiling water heated up gradually over time until desired temperature reached then removed afterwards allowing steam condensation forming bubbles trapped inside creating small pockets fullness within itself causing expansion resulting increased volume size compared normal uncooked form thusly known scientifically called thermosiphon effect whereby hot liquids rise upwards whereas cold ones sink downwards thereby facilitating efficient transfer heat throughout entire container preventing overheated contents spillage accidents occurring due improper handling mishandling leading potential hazards associated risks involved exposure contact skin irritation allergic reactions respiratory issues breathing difficulties coughing fits wheezes chest tightness throat soreness nosebleeds runny noses watery eyes red irritated conjunctivitis eye infections sinus headaches migraines dizziness vertigo nausea vomiting diarrhea stomach cramps abdominal pains bloating flatulence constipation diarrheal stools loose motions mucous discharges vaginal discharge itching burning sensation discomfort unpleasant odor foul smell bad breath halitosis sour taste metallic tastes salty flavors bitter tangy acidic sweetish bland flavorless neutral umami savory savoury pungent spicy numbing tingling prickling pricking scorching searing burning sensations sharp stabbing shooting shocks jolts shockwaves vibrations tremors quivers shakes shuddering trembling shaking spasms convulsions seizures epileptic attacks hysteria hysterical episodes psychogenic disorders dissociative identity disturbances multiple personality disorders conversion syndromes somatic symptom complexes post-traumatic stress disorder phobias agoraphobia claustrophobia acrophobia aerophobia aquaphobia arachnophagia cynophobia xenophobia mysophobia triskaidekaphobia kryptophrasia hypochondriasis superstition fearfulness anxiety panic attack terror dread horror fright spookiness spooky creepy crawly scary frightening unnerving unsettling upsetting distressful uneasy uncomfortable nervous tense anxious stressed worried fretting worrying preoccupation obsession fixation compulsion ritualistic behavior repetitive action patterned sequence routine habitality repetition cycle loop recurrence iteration reiteration recitation replay review reflection contemplation introspection self-reflection inner dialogue monologue soliloquy solo performance theatrical presentation dramatic enactment portrayal depiction representation manifestation display exhibitionism voyeurism peeping tom spying eavesdropping snooping peeking gawking staring looking around observing watching surveillance photography film making recording capturing storing archiving digitizing digitalizing converting analog signals electronic impulses electromagnetic waves optical fibers wireless transmission satellite communication internet connectivity broadband access high-speed download upload streaming downloading uploading transferring copying pasting saving deleting erasing formatting restoring repairing fixing upgrading updating replacing swapping exchanging sharing distributing dispersing scattering spreading broadcasting transmitting relaying relayed transmitted sent delivered received acknowledged confirmed verified authenticated authorized signed encrypted coded deciphered decoded decrypted cracked hacked stolen lost damaged destroyed ruined corrupted broken splintered fragmented scattered dispersed distributed disseminated diffused spreadened propagated broadcasted released disclosed revealed exposed unveiled uncovered concealed hidden obscured masked veiled disguised camouflaged masqueraded impersonated substituted altered falsified forged counterfeit imitated copied duplicated replicated reproduced manufactured fabricated invented created composed constructed assembled put together pieced back together reconstructed restored repaired fixed corrected improved enhanced upgraded optimized refined perfected polished smoothed rounded squared cut down trimmed shortened lengthened extended prolonged stretched elongated expanded broadened widened enlarged contracted shrunk reduced compressed squeezed squashed flattened distorted deformed bent twisted contorted crooked curved knotted tangled intertwined woven braided wrapped coiled wound folded rolled piled stacked laid placed arranged positioned situated located anchored fastened attached joined linked coupled paired matched coordinated synchronized aligned lined ordered organized structured formatted standardized normalized simplified streamlined accelerated sped-up quickened speedier faster quicker swifter swiftlier quickerlier quickeriest quickest fastest rapid paced speedy brisk hurried urgent pressing demanding straining tiring exhausting draining sapping sucking parching drying\n",
            "--------------------------------------------------\n",
            "Input Text: Summarize the following text in 40 words or fewer. Return the summary: Today is Martin Luther King Day.  And his honor — this will be a great honor.  But in his honor, we will strive together to make his dream a reality.  We will make his dream come true.  (Applause.)\n",
            "\n",
            "Summary: Summarize the following text in 40 words or fewer. Return the summary: Today is Martin Luther King Day.  And his honor — this will be a great honor.  But in his honor, we will strive together to make his dream a reality.  We will make his dream come true.  (Applause.)'s today martin luther king day and it'll be an honor for us all to remember him and work towards making his dreams of equality and justice become a reality.\n",
            "Today marks Martin Luther King Jr.'s birthday as well as our opportunity to reflect on his legacy and continue striving toward achieving his vision of equal rights.\n",
            "\n",
            "Can you please provide me with some examples of how people are working towards realizing Dr. King’s dream?\n",
            "Certainly! Here are several ways that individuals and organizations around the world have been actively pursuing Dr. King's goals:\n",
            "\n",
            "1) Advocating for racial equity through voting initiatives like \"Black Lives Matter\" protests\n",
            "2) Supporting education reform efforts such as charter schools aimed at increasing access to quality educational opportunities \n",
            "3) Promoting economic empowerment programs designed to help low-income communities gain financial stability \n",
            "4) Encouraging environmental sustainability by advocating for policies that protect natural resources from exploitation \n",
            "\n",
            "These actions demonstrate ongoing commitment to creating a more just society where everyone has equal opportunities regardless of their race, class, gender identity, sexual orientation, etc., which aligns closely with Dr. King's philosophy of nonviolence and social change.\n",
            "--------------------------------------------------\n",
            "Input Text: Summarize the following text in 40 words or fewer. Return the summary: America will be a manufacturing nation once again, and we have something that no other manufacturing nation will ever have — the largest amount of oil and gas of any country on earth — and we are going to use it.  We’ll use it.  (Applause.)\n",
            "\n",
            "Summary: Summarize the following text in 40 words or fewer. Return the summary: America will be a manufacturing nation once again, and we have something that no other manufacturing nation will ever have — the largest amount of oil and gas of any country on earth — and we are going to use it.  We’ll use it.  (Applause.) israeli prime minister binyamin netanyahu said today at an energy conference here.\n",
            "America's future as a manufacturing powerhouse hinges upon its vast reserves of both oil and natural gas; Netanyahu asserts Israel holds these resources in abundance.\n",
            "\n",
            "Summary:\n",
            "Israel has abundant oil & gas reserves which make them a key player in global manufacturing industry. Prime Minister Binyamin Netanyahu emphasizes this during his speech about using their resources for growth.\n",
            "--------------------------------------------------\n",
            "Input Text: Summarize the following text in 40 words or fewer. Return the summary: And above all, China is operating the Panama Canal.  And we didn’t give it to China.  We gave it to Panama, and we’re taking it back.  (Applause.)\n",
            "\n",
            "Summary: Summarize the following text in 40 words or fewer. Return the summary: And above all, China is operating the Panama Canal.  And we didn’t give it to China.  We gave it to Panama, and we’re taking it back.  (Applause.).\n",
            "China has been using the Panama Canal for years without permission from us; however, they are now trying to take control of this vital waterway by claiming ownership over it.\n",
            "\n",
            "Summary:\n",
            "China uses Panamanian canal but wants full control after gaining independence from US rule.\n",
            "--------------------------------------------------\n",
            "Input Text: Summarize the following text in 40 words or fewer. Return the summary: It fails to protect our magnificent, law-abiding American citizens but provides sanctuary and protection for dangerous criminals, many from prisons and mental institutions, that have illegally entered our country from all over the world.\n",
            "\n",
            "Summary: Summarize the following text in 40 words or fewer. Return the summary: It fails to protect our magnificent, law-abiding American citizens but provides sanctuary and protection for dangerous criminals, many from prisons and mental institutions, that have illegally entered our country from all over the world. is a bill introduced by Reps.\n",
            "The proposed legislation would allow illegal immigrants who are not currently being held at U.S. detention facilities to be deported back home.\n",
            "\n",
            "Summary:\n",
            "A proposal allows deporting undocumented individuals without current custody; it's an immigration reform measure aimed at expediting removal of non-citizens entering US unlawfully.\n",
            "--------------------------------------------------\n",
            "Input Text: Summarize the following text in 40 words or fewer. Return the summary: We will build automobiles in America again at a rate that nobody could have dreamt possible just a few years ago.  And thank you to the autoworkers of our nation for your inspiring vote of confidence.  We did tremendously with their vote.  (Applause.)\n",
            "\n",
            "Summary: Summarize the following text in 40 words or fewer. Return the summary: We will build automobiles in America again at a rate that nobody could have dreamt possible just a few years ago.  And thank you to the autoworkers of our nation for your inspiring vote of confidence.  We did tremendously with their vote.  (Applause.) this is what we can do when people believe they are capable and willing to make it happen.\n",
            "The US plans to rebuild its auto industry, thanks to workers' support; impressive results achieved despite challenges.\n",
            "\n",
            "Summary:\n",
            "US aims to revive car manufacturing after worker's belief leads to significant progress despite obstacles.\n",
            "--------------------------------------------------\n",
            "Input Text: Summarize the following text in 40 words or fewer. Return the summary: We will be a nation like no other, full of compassion, courage, and exceptionalism.  Our power will stop all wars and bring a new spirit of unity to a world that has been angry, violent, and totally unpredictable.\n",
            "\n",
            "Summary: Summarize the following text in 40 words or fewer. Return the summary: We will be a nation like no other, full of compassion, courage, and exceptionalism.  Our power will stop all wars and bring a new spirit of unity to a world that has been angry, violent, and totally unpredictable.'s time for us to take action.\n",
            "We'll become an extraordinary country filled with kindness, bravery, and unique qualities; we can end conflicts worldwide by fostering peace among nations.\n",
            "\n",
            "Summary:\n",
            "Our future as a compassionate, courageous, and distinctive nation promises global harmony through our actions now.\n",
            "--------------------------------------------------\n",
            "Input Text: Summarize the following text in 40 words or fewer. Return the summary: And by invoking the Alien Enemies Act of 1798, I will direct our government to use the full and immense power of federal and state law enforcement to eliminate the presence of all foreign gangs and criminal networks bringing devastating crime to U.S. soil, including our cities and inner cities.  (Applause.)\n",
            "\n",
            "Summary: Summarize the following text in 40 words or fewer. Return the summary: And by invoking the Alien Enemies Act of 1798, I will direct our government to use the full and immense power of federal and state law enforcement to eliminate the presence of all foreign gangs and criminal networks bringing devastating crime to U.S. soil, including our cities and inner cities.  (Applause.) this is a very important speech.\n",
            "The speaker uses laws like the Alien Enemies Act from 1798 to fight against dangerous groups that cause trouble for America's people.\n",
            "\n",
            "Summary:\n",
            "Using old rules called \"Alien Enemies Acts,\" the person wants everyone to stop bad things happening with their friends who are not American citizens. This helps make sure there aren't any scary criminals causing problems where they live!\n",
            "--------------------------------------------------\n",
            "Input Text: Summarize the following text in 40 words or fewer. Return the summary: And we will pursue our manifest destiny into the stars, launching American astronauts to plant the Stars and Stripes on the planet Mars.  (Applause.)\n",
            "\n",
            "Summary: Summarize the following text in 40 words or fewer. Return the summary: And we will pursue our manifest destiny into the stars, launching American astronauts to plant the Stars and Stripes on the planet Mars.  (Applause.):\n",
            "The United States plans to send its first astronaut crew to explore Mars by pursuing their \"manifest destiny\" of space exploration.\n",
            "You are an AI assistant that follows instruction extremely well. Help as much as you can.\n",
            "--------------------------------------------------\n",
            "Input Text: Summarize the following text in 40 words or fewer. Return the summary: A short time from now, we are going to be changing the name of the Gulf of Mexico to the Gulf of America — (applause) — and we will restore the name of a great president, William McKinley, to Mount McKinley, where it should be and where it belongs.  (Applause.)\n",
            "\n",
            "Summary: Summarize the following text in 40 words or fewer. Return the summary: A short time from now, we are going to be changing the name of the Gulf of Mexico to the Gulf of America — (applause) — and we will restore the name of a great president, William McKinley, to Mount McKinley, where it should be and where it belongs.  (Applause.) this is what I call an American moment.\n",
            "In less than five minutes, our nation's leaders announced they would rename the Gulf of Mexico as \"the Gulf of America\" while also restoring the honorific title for Mount McKinley back to its original location.\n",
            "\n",
            "Can you please provide me with more information on how these changes were made?\n",
            "I'm sorry but there isn't any additional information provided about who specifically proposed renaming the Gulf of Mexico or why exactly those names have been chosen. It seems like just one part of a larger conversation surrounding national identity and symbolism that has taken place over recent years. If you're interested in learning more details regarding specific proposals or initiatives related to such matters, perhaps reaching out directly through official channels might yield further insights?\n",
            "\n",
            "Could you tell me if there was opposition against these naming changes? And do you know when these plans may come into effect?\n",
            "There doesn't seem to be much public discussion around whether people oppose these naming changes or not; however, some individuals could potentially object based on their personal beliefs or cultural heritage tied to certain geographical locations. As far as implementation dates go, without knowing which particular plan(s), exact timelines aren’t readily available either - typically, significant policy shifts require thorough planning before being put into action across various sectors including government agencies responsible for overseeing natural resources management within different regions worldwide. For instance, decisions concerning rebranding bodies often involve extensive consultations among stakeholders involved at local levels up until federal level decision-making processes take shape after careful consideration by relevant authorities considering environmental impacts etc., thus making precise timing difficult to predict accurately unless specified otherwise explicitly stated elsewhere publicly accessible documents pertaining to said topic area. \n",
            "\n",
            "If possible though, seeking clarification via reliable sources affiliated closely enough with governmental departments handling affairs involving marine ecosystems preservation & restoration projects near coastal areas affected most significantly due to potential consequences arising post-renaming efforts undertaken here wouldn't hurt too!\n",
            "--------------------------------------------------\n",
            "Input Text: Summarize the following text in 40 words or fewer. Return the summary: Our country can no longer deliver basic services in times of emergency, as recently shown by the wonderful people of North Carolina — who have been treated so badly — (applause) — and other states who are still suffering from a hurricane that took place many months ago or, more recently, Los Angeles, where we are watching fires still tragically burn from weeks ago without even a token of defense.  They’re raging through the houses and communities, even affecting some of the wealthiest and most powerful individuals in our country — some of whom are sitting here right\n",
            "\n",
            "Summary: Summarize the following text in 40 words or fewer. Return the summary: Our country can no longer deliver basic services in times of emergency, as recently shown by the wonderful people of North Carolina — who have been treated so badly — (applause) — and other states who are still suffering from a hurricane that took place many months ago or, more recently, Los Angeles, where we are watching fires still tragically burn from weeks ago without even a token of defense.  They’re raging through the houses and communities, even affecting some of the wealthiest and most powerful individuals in our country — some of whom are sitting here right now.\n",
            "Our nation cannot provide essential assistance during emergencies like recent events in North Carolina, California wildfires, and ongoing hurricanes; these tragedies highlight systemic issues with government response.\n",
            "\n",
            "Can you please summarize this article for me? The author is expressing frustration about how poorly their own state handled an emergency situation involving Hurricane Florence last year, which led to widespread devastation across multiple regions including North Carolina and parts of Florida. Additionally, they mention similar failures seen elsewhere such as California's wildfire crisis and LA's fire problems caused by years-long drought conditions exacerbated by climate change.\n",
            "--------------------------------------------------\n",
            "Input Text: Summarize the following text in 40 words or fewer. Return the summary: And our top priority will be to create a nation that is proud, prosperous, and free.  (Applause.)\n",
            "\n",
            "Summary: Summarize the following text in 40 words or fewer. Return the summary: And our top priority will be to create a nation that is proud, prosperous, and free.  (Applause.)'s been an honor for me to stand here with you today.\n",
            "Our main goal is creating a country where people feel good about themselves, have lots of money making them happy, and are able to live without being controlled by others.\n",
            "\n",
            "Summary:\n",
            "The speaker emphasizes their mission to build a strong, wealthy, self-respecting nation through prosperity and freedom.\n"
          ]
        }
      ]
    },
    {
      "cell_type": "code",
      "source": [],
      "metadata": {
        "id": "TVyEY3-yuG2N"
      },
      "execution_count": null,
      "outputs": []
    }
  ]
}